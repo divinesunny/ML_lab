{
 "cells": [
  {
   "cell_type": "code",
   "execution_count": 1,
   "id": "practical-relevance",
   "metadata": {},
   "outputs": [],
   "source": [
    "import numpy as np\n",
    "import pandas as pd\n",
    "import matplotlib.pyplot as plt\n",
    "from copy import deepcopy\n",
    "from scipy.spatial import ConvexHull\n",
    "import numpy as np"
   ]
  },
  {
   "cell_type": "code",
   "execution_count": 2,
   "id": "hairy-partner",
   "metadata": {},
   "outputs": [
    {
     "name": "stdout",
     "output_type": "stream",
     "text": [
      "    x1   y1\n",
      "0  5.9  3.2\n",
      "1  4.6  2.9\n",
      "2  6.2  2.8\n",
      "3  4.7  3.2\n",
      "4  5.5  4.2\n",
      "5  5.0  3.0\n",
      "6  4.9  3.1\n",
      "7  6.7  3.1\n",
      "8  5.1  3.8\n"
     ]
    }
   ],
   "source": [
    "k = 3\n",
    "X = pd.read_csv('KMEANS.csv',index_col=False)\n",
    "print(X)"
   ]
  },
  {
   "cell_type": "code",
   "execution_count": 3,
   "id": "decreased-vietnamese",
   "metadata": {},
   "outputs": [
    {
     "name": "stdout",
     "output_type": "stream",
     "text": [
      "[[5.9 3.2]\n",
      " [4.6 2.9]\n",
      " [6.2 2.8]\n",
      " [4.7 3.2]\n",
      " [5.5 4.2]\n",
      " [5.  3. ]\n",
      " [4.9 3.1]\n",
      " [6.7 3.1]\n",
      " [5.1 3.8]]\n"
     ]
    }
   ],
   "source": [
    "x1 = X['x1'].values\n",
    "x2 = X['y1'].values\n",
    "X = np.array(list(zip(x1, x2)))\n",
    "print(X)"
   ]
  },
  {
   "cell_type": "code",
   "execution_count": 4,
   "id": "arctic-alloy",
   "metadata": {},
   "outputs": [
    {
     "name": "stdout",
     "output_type": "stream",
     "text": [
      "Initial Centroids\n",
      "(3, 2)\n"
     ]
    }
   ],
   "source": [
    "C_x = [6.2, 6.6 ,6.5]\n",
    "C_y = [3.2, 3.7, 3.0]\n",
    "Centroid = np.array(list(zip(C_x, C_y)), dtype=np.float32)\n",
    "print(\"Initial Centroids\")\n",
    "print(Centroid.shape)"
   ]
  },
  {
   "cell_type": "code",
   "execution_count": 5,
   "id": "extraordinary-regard",
   "metadata": {},
   "outputs": [],
   "source": [
    "def euclidean(a,b, ax=1):\n",
    "    return np.linalg.norm(a-b, axis=ax)"
   ]
  },
  {
   "cell_type": "code",
   "execution_count": 6,
   "id": "naval-johns",
   "metadata": {},
   "outputs": [
    {
     "name": "stdout",
     "output_type": "stream",
     "text": [
      "[[0. 0.]\n",
      " [0. 0.]\n",
      " [0. 0.]]\n",
      "[0. 0. 0. 0. 0. 0. 0. 0. 0.]\n",
      "12.537144692236463\n",
      " Centre of the clusters after  1  Iteration \n",
      " [[5.0333333 3.2      ]\n",
      " [5.5       4.2      ]\n",
      " [6.45      2.95     ]]\n",
      "Error  ...  1.681104\n",
      " Centre of the clusters after  2  Iteration \n",
      " [[4.8       3.05     ]\n",
      " [5.3       4.       ]\n",
      " [6.266667  3.0333333]]\n",
      "Error  ...  0.44440928\n",
      " Centre of the clusters after  3  Iteration \n",
      " [[4.8       3.05     ]\n",
      " [5.3       4.       ]\n",
      " [6.266667  3.0333333]]\n",
      "Error  ...  0.0\n"
     ]
    }
   ],
   "source": [
    "Centroid_old = np.zeros(Centroid.shape)\n",
    "print(Centroid_old)\n",
    "    # Cluster Lables(0, 1, 2)\n",
    "clusters = np.zeros(len(X))\n",
    "print(clusters)\n",
    "error = euclidean(Centroid, Centroid_old, None)\n",
    "print(error)\n",
    "iterr = 0\n",
    "    # Loop will run till the error becomes zero\n",
    "while error != 0:\n",
    "        # Assigning each value to its from scipy.spatial import ConvexHull\n",
    "import numpy as npclosest cluster\n",
    "    iterr = iterr + 1\n",
    "    for i in range(len(X)):\n",
    "            #print(X[i])\n",
    "        distances = euclidean(X[i], Centroid)\n",
    "            #print(distances)\n",
    "        cluster = np.argmin(distances)\n",
    "        clusters[i] = cluster\n",
    "    Centroid_old = deepcopy(Centroid)\n",
    "    for p in range(k):\n",
    "            points = [X[j] for j in range(len(X)) if clusters[j] == p]\n",
    "            Centroid[p] = np.mean(points, axis=0)\n",
    "    print(\" Centre of the clusters after \", iterr,\" Iteration \\n\", Centroid)\n",
    "    error = euclidean(Centroid, Centroid_old, None)\n",
    "    print(\"Error  ... \",error) "
   ]
  },
  {
   "cell_type": "code",
   "execution_count": 7,
   "id": "expressed-approach",
   "metadata": {
    "scrolled": true
   },
   "outputs": [
    {
     "data": {
      "image/png": "[encoded data removed]",
      "text/plain": [
       "<Figure size 432x288 with 1 Axes>"
      ]
     },
     "metadata": {
      "needs_background": "light"
     },
     "output_type": "display_data"
    }
   ],
   "source": [
    "plt.scatter(x1,x2)\n",
    "plt.show()"
   ]
  },
  {
   "cell_type": "code",
   "execution_count": 10,
   "id": "three-description",
   "metadata": {},
   "outputs": [
    {
     "data": {
      "text/plain": [
       "<matplotlib.collections.PathCollection at 0x7fe2a3240f28>"
      ]
     },
     "execution_count": 10,
     "metadata": {},
     "output_type": "execute_result"
    },
    {
     "data": {
      "image/png": "[encoded data removed]",
      "text/plain": [
       "<Figure size 432x288 with 1 Axes>"
      ]
     },
     "metadata": {
      "needs_background": "light"
     },
     "output_type": "display_data"
    }
   ],
   "source": [
    "fl0=X[clusters==0]\n",
    "fl1=X[clusters==1]\n",
    "fl2=X[clusters==2]\n",
    "\n",
    "\n",
    "plt.scatter(fl0[:,0],fl0[:,1],color=\"red\")\n",
    "plt.scatter(fl1[:,0],fl1[:,1],color=\"green\")\n",
    "plt.scatter(fl2[:,0],fl2[:,1],color=\"blue\")"
   ]
  },
  {
   "cell_type": "code",
   "execution_count": null,
   "id": "prime-foster",
   "metadata": {},
   "outputs": [],
   "source": []
  }
 ],
 "metadata": {
  "kernelspec": {
   "display_name": "Python 3",
   "language": "python",
   "name": "python3"
  },
  "language_info": {
   "codemirror_mode": {
    "name": "ipython",
    "version": 3
   },
   "file_extension": ".py",
   "mimetype": "text/x-python",
   "name": "python",
   "nbconvert_exporter": "python",
   "pygments_lexer": "ipython3",
   "version": "3.7.3"
  }
 },
 "nbformat": 4,
 "nbformat_minor": 5
}
